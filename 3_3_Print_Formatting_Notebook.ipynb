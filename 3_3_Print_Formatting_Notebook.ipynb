{
 "cells": [
  {
   "cell_type": "code",
   "execution_count": 1,
   "metadata": {
    "collapsed": false
   },
   "outputs": [
    {
     "name": "stdout",
     "output_type": "stream",
     "text": [
      "Enter your name:Chiranjeevi\n"
     ]
    }
   ],
   "source": [
    "str1 = str(input(\"Enter your name:\"))"
   ]
  },
  {
   "cell_type": "code",
   "execution_count": 4,
   "metadata": {
    "collapsed": false
   },
   "outputs": [
    {
     "name": "stdout",
     "output_type": "stream",
     "text": [
      "My name is :Chiranjeevi\n"
     ]
    }
   ],
   "source": [
    "print(\"My name is :%s\"%(str1))"
   ]
  },
  {
   "cell_type": "code",
   "execution_count": 9,
   "metadata": {
    "collapsed": false
   },
   "outputs": [
    {
     "name": "stdout",
     "output_type": "stream",
     "text": [
      "Enter your salary:20500.258\n"
     ]
    }
   ],
   "source": [
    "sal = float(input(\"Enter your salary:\"))"
   ]
  },
  {
   "cell_type": "code",
   "execution_count": 10,
   "metadata": {
    "collapsed": false
   },
   "outputs": [
    {
     "name": "stdout",
     "output_type": "stream",
     "text": [
      "20500.258\n"
     ]
    }
   ],
   "source": [
    "print(sal)"
   ]
  },
  {
   "cell_type": "code",
   "execution_count": 13,
   "metadata": {
    "collapsed": false
   },
   "outputs": [
    {
     "name": "stdout",
     "output_type": "stream",
     "text": [
      "Hello Chiranjeevi, your salary is: 20500.26\n"
     ]
    }
   ],
   "source": [
    "print(\"Hello %s, your salary is: %1.2f\"%(str1,sal))"
   ]
  },
  {
   "cell_type": "markdown",
   "metadata": {},
   "source": [
    "### Conversion Format Methods\n",
    "It should be noticed that two methos %s and %r represent two formatting methods str() and repr() which gives the same result. Some of the examples below"
   ]
  },
  {
   "cell_type": "code",
   "execution_count": 14,
   "metadata": {
    "collapsed": false
   },
   "outputs": [
    {
     "name": "stdout",
     "output_type": "stream",
     "text": [
      "Enter a first string:CM\n"
     ]
    }
   ],
   "source": [
    "st1 = input(\"Enter a first string:\")"
   ]
  },
  {
   "cell_type": "code",
   "execution_count": 15,
   "metadata": {
    "collapsed": false
   },
   "outputs": [
    {
     "name": "stdout",
     "output_type": "stream",
     "text": [
      "Entered String is :'CM', The anual salary:13.00000\n"
     ]
    }
   ],
   "source": [
    "print(\"Entered String is :%r, The anual salary:%1.5f\"%(st1,float(13)))"
   ]
  },
  {
   "cell_type": "code",
   "execution_count": 16,
   "metadata": {
    "collapsed": false
   },
   "outputs": [
    {
     "name": "stdout",
     "output_type": "stream",
     "text": [
      "Hello Chiranjeevi, welcome to 'My course'. Course price is:0.0\n"
     ]
    }
   ],
   "source": [
    "print(\"Hello %s, welcome to %r. Course price is:%r\"%(\"Chiranjeevi\",\"My course\",float(0)))"
   ]
  },
  {
   "cell_type": "markdown",
   "metadata": {},
   "source": [
    "### Using the String.format methods\n",
    "The best to format your strings into your string for print.\n",
    "\n",
    "Ex:\n",
    "\n",
    "print(\"The first string is:{var1},The second string is :{var2}\".format(var1='First String', var2= 'Second String'))"
   ]
  },
  {
   "cell_type": "code",
   "execution_count": 18,
   "metadata": {
    "collapsed": false
   },
   "outputs": [
    {
     "name": "stdout",
     "output_type": "stream",
     "text": [
      "The first string:Chiranjeevi. The second string is:marella\n"
     ]
    }
   ],
   "source": [
    "print(\"The first string:{val1}. The second string is:{val2}\".format(val1='Chiranjeevi', val2='marella'))"
   ]
  },
  {
   "cell_type": "code",
   "execution_count": null,
   "metadata": {
    "collapsed": true
   },
   "outputs": [],
   "source": []
  }
 ],
 "metadata": {
  "celltoolbar": "Raw Cell Format",
  "kernelspec": {
   "display_name": "Python 3",
   "language": "python",
   "name": "python3"
  },
  "language_info": {
   "codemirror_mode": {
    "name": "ipython",
    "version": 3
   },
   "file_extension": ".py",
   "mimetype": "text/x-python",
   "name": "python",
   "nbconvert_exporter": "python",
   "pygments_lexer": "ipython3",
   "version": "3.6.0"
  }
 },
 "nbformat": 4,
 "nbformat_minor": 2
}
